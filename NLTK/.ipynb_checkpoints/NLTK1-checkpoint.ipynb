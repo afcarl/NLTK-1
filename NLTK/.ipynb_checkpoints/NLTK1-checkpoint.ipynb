{
 "cells": [
  {
   "cell_type": "code",
   "execution_count": 1,
   "metadata": {
    "collapsed": false
   },
   "outputs": [
    {
     "name": "stdout",
     "output_type": "stream",
     "text": [
      "*** Introductory Examples for the NLTK Book ***\n",
      "Loading text1, ..., text9 and sent1, ..., sent9\n",
      "Type the name of the text or sentence to view it.\n",
      "Type: 'texts()' or 'sents()' to list the materials.\n",
      "text1: Moby Dick by Herman Melville 1851\n",
      "text2: Sense and Sensibility by Jane Austen 1811\n",
      "text3: The Book of Genesis\n",
      "text4: Inaugural Address Corpus\n",
      "text5: Chat Corpus\n",
      "text6: Monty Python and the Holy Grail\n",
      "text7: Wall Street Journal\n",
      "text8: Personals Corpus\n",
      "text9: The Man Who Was Thursday by G . K . Chesterton 1908\n"
     ]
    }
   ],
   "source": [
    "import nltk\n",
    "import numpy as np\n",
    "import pandas as pd\n",
    "import matplotlib.pyplot as plt\n",
    "from nltk.book import *\n",
    "%matplotlib inline "
   ]
  },
  {
   "cell_type": "code",
   "execution_count": 22,
   "metadata": {
    "collapsed": false
   },
   "outputs": [
    {
     "name": "stdout",
     "output_type": "stream",
     "text": [
      "Displaying 25 of 60 matches:\n",
      "00 taxable funds tracked * by IBC 's Money Fund Report eased a fraction of a pe\n",
      "*-1 Brenda Malizia Negus , editor of Money Fund Report , yields `` may blip up \n",
      "stors continue *-1 to pour cash into money funds . Assets of the 400 taxable fu\n",
      "go after the highest rates . The top money funds are currently yielding well ov\n",
      "t forces investors to redeploy their money at lower rates . Second , they chann\n",
      "heless , plenty of U.S. analysts and money managers are aghast at the lofty tra\n",
      "ll face legal obstacles to * raising money in the U.S. until they settle hundre\n",
      " in September . The goverment counts money as it is spent *-53 ; Dodge counts c\n",
      "*-54 *T*-1 . The government includes money spent * on residential renovation ; \n",
      "Japan . Despite the enormous sums of money 0 they 're paid *T*-1 *-2 to stand u\n",
      "aduate School of Business . Japanese money will help *-1 turn Southeast Asia in\n",
      "r hand , bring recognition and extra money -- a new computer lab for a school ,\n",
      "teaching as a career . She won grant money for the school , advised cheerleader\n",
      "e was eager *-1 to win -- if not for money , then for pride and recognition . M\n",
      "t . Ed Macheski , a Wilton , Conn. , money manager who *T*-120 follows bank sto\n",
      "hanical engineering productivity . @ Money Market Deposits-a 6.21 % a - Average\n",
      " Co . `` I think 0 the stock is dead money for a while . '' Yesterday 's announ\n",
      "firms that *T*-154 do n't spend much money *-1 advertising and ca n't be relied\n",
      "cheduled *-106 . Unless it can raise money in financial markets , Mr. Basham sa\n",
      " with the end of the year in sight , money managers are eager *-1 to take profi\n",
      "ideas , *-1 frequently putting their money behind projects that commercial bank\n",
      "tatement 0 *T*-1 to help in * saving money . In September , Union Planters Corp\n",
      "t , a Chicago investment adviser and money manager , based on a review of six d\n",
      "f Fujitsu Ltd. , believes `` 0 the ` money worship ' among young people ... cau\n",
      "-247 's wrong with * asking for more money ? Money is not everything , but it i\n",
      "\n",
      "\n",
      "Displaying 25 of 32 matches:\n",
      "s born in the house , or bought with money of any stranger , which is not of th\n",
      "use , and he that is bought with thy money , must needs be circumcis and my cov\n",
      " , and all that were bought with his money , every male among the men of Abraha\n",
      " born in the house , and bought with money of the stranger , were circumcised w\n",
      "n the end of his field ; for as much money as it is worth he shall give it me f\n",
      " I pray thee , hear I will give thee money for the field ; take it of me , and \n",
      " hundred shekels of silver , current money with the merchant . And the field of\n",
      "s , and hath quite devoured also our money . For all the riches which God hath \n",
      " s father , for an hundred pieces of money . And he erected there an altar , an\n",
      " corn , and to restore every man ' s money into his sack , and to give them pro\n",
      "provender in the inn , he espied his money ; for , behold , it was in his sack \n",
      ". And he said unto his brethren , My money is restored ; and , lo , it is even \n",
      "t , behold , every man ' s bundle of money was in his sa and when both they and\n",
      " and their father saw the bundles of money , they were afraid . And Jacob their\n",
      "h , nuts , and almon And take double money in your hand ; and the money that wa\n",
      " double money in your hand ; and the money that was brought again in the mouth \n",
      " that present , and they took double money in their hand and Benjamin ; and ros\n",
      "use ; and they said , Because of the money that was returned in our sacks at th\n",
      "sacks , and , behold , every man ' s money was in the mouth of his sack , our m\n",
      "y was in the mouth of his sack , our money in full weig and we have brought it \n",
      "ght it again in our hand . And other money have we brought down in our hands to\n",
      "uy food : we cannot tell who put our money in our sacks . And he said , Peace b\n",
      " you treasure in your sac I had your money . And he brought Simeon out unto the\n",
      "ey can carry , and put every man ' s money in his sack ' s mouth . And put my c\n",
      "mouth of the youngest , and his corn money . And he did according to the word t\n"
     ]
    }
   ],
   "source": [
    "text7.concordance('money')\n",
    "print \"\\n\"\n",
    "text3.concordance('money')"
   ]
  },
  {
   "cell_type": "code",
   "execution_count": 3,
   "metadata": {
    "collapsed": false
   },
   "outputs": [
    {
     "name": "stdout",
     "output_type": "stream",
     "text": [
      "the capital million free stocks it general competitive trade softer\n",
      "asian seats diplomats principal pinocchio improvement modernization\n",
      "board hope real\n"
     ]
    }
   ],
   "source": [
    "text7.similar('money')"
   ]
  },
  {
   "cell_type": "code",
   "execution_count": 4,
   "metadata": {
    "collapsed": false
   },
   "outputs": [
    {
     "name": "stdout",
     "output_type": "stream",
     "text": [
      "god men father land cup brother field cattle life thigh jacob earth\n",
      "sinew bread them thee silver people house sea\n"
     ]
    }
   ],
   "source": [
    "text3.similar('money')"
   ]
  },
  {
   "cell_type": "code",
   "execution_count": 5,
   "metadata": {
    "collapsed": false
   },
   "outputs": [
    {
     "name": "stdout",
     "output_type": "stream",
     "text": [
      "of_and the_which of_was your_and\n"
     ]
    }
   ],
   "source": [
    "text3.common_contexts(['money','god'])"
   ]
  },
  {
   "cell_type": "code",
   "execution_count": 6,
   "metadata": {
    "collapsed": false
   },
   "outputs": [
    {
     "data": {
      "image/png": "[encoded data removed]",
      "text/plain": [
       "<matplotlib.figure.Figure at 0x1c23fb70>"
      ]
     },
     "metadata": {},
     "output_type": "display_data"
    }
   ],
   "source": [
    "text7.dispersion_plot(['money','finance','computer','engineering','technology'])"
   ]
  },
  {
   "cell_type": "code",
   "execution_count": 27,
   "metadata": {
    "collapsed": false,
    "scrolled": false
   },
   "outputs": [],
   "source": [
    "fdist = FreqDist(text7)"
   ]
  },
  {
   "cell_type": "code",
   "execution_count": 33,
   "metadata": {
    "collapsed": false
   },
   "outputs": [
    {
     "data": {
      "image/png": "[encoded data removed]",
      "text/plain": [
       "<matplotlib.figure.Figure at 0x2649a4e0>"
      ]
     },
     "metadata": {},
     "output_type": "display_data"
    }
   ],
   "source": [
    "fdist.plot(50, cumulative=True)"
   ]
  },
  {
   "cell_type": "code",
   "execution_count": 42,
   "metadata": {
    "collapsed": false
   },
   "outputs": [],
   "source": [
    "hapaxes = fdist.hapaxes()"
   ]
  },
  {
   "cell_type": "code",
   "execution_count": 55,
   "metadata": {
    "collapsed": false
   },
   "outputs": [],
   "source": [
    "V = set(text7)\n",
    "long_words = [w for w in V if len(w)>15 and fdist[w]>1]"
   ]
  },
  {
   "cell_type": "code",
   "execution_count": 56,
   "metadata": {
    "collapsed": false,
    "scrolled": true
   },
   "outputs": [
    {
     "data": {
      "text/plain": [
       "[u'larger-than-normal',\n",
       " u'financial-services',\n",
       " u'savings-and-loan',\n",
       " u'property\\\\/casualty',\n",
       " u'anti-programmers',\n",
       " u'telecommunications',\n",
       " u'limited-partnership',\n",
       " u'investment-grade',\n",
       " u'computer-assisted',\n",
       " u'Prudential-Bache',\n",
       " u'over-the-counter',\n",
       " u'Bridgestone\\\\/Firestone',\n",
       " u'current-carrying',\n",
       " u'labor-management',\n",
       " u'anti-abortionists',\n",
       " u'environmentalists',\n",
       " u'responsibilities',\n",
       " u'dollar-denominated',\n",
       " u'Freeport-McMoRan',\n",
       " u'asbestos-related',\n",
       " u'unconstitutional',\n",
       " u'intellectual-property',\n",
       " u'Metallgesellschaft',\n",
       " u'Macmillan\\\\/McGraw-Hill',\n",
       " u'Macmillan\\\\/McGraw']"
      ]
     },
     "execution_count": 56,
     "metadata": {},
     "output_type": "execute_result"
    }
   ],
   "source": [
    "long_words"
   ]
  },
  {
   "cell_type": "code",
   "execution_count": 46,
   "metadata": {
    "collapsed": false
   },
   "outputs": [
    {
     "ename": "AttributeError",
     "evalue": "'list' object has no attribute 'intersection'",
     "output_type": "error",
     "traceback": [
      "\u001b[1;31m---------------------------------------------------------------------------\u001b[0m",
      "\u001b[1;31mAttributeError\u001b[0m                            Traceback (most recent call last)",
      "\u001b[1;32m<ipython-input-46-ebdfa1911e77>\u001b[0m in \u001b[0;36m<module>\u001b[1;34m()\u001b[0m\n\u001b[1;32m----> 1\u001b[1;33m \u001b[0mlen\u001b[0m\u001b[1;33m(\u001b[0m\u001b[0mlist\u001b[0m\u001b[1;33m(\u001b[0m\u001b[0mhapaxes\u001b[0m\u001b[1;33m.\u001b[0m\u001b[0mintersection\u001b[0m\u001b[1;33m(\u001b[0m\u001b[0mlong_words\u001b[0m\u001b[1;33m)\u001b[0m\u001b[1;33m)\u001b[0m\u001b[1;33m)\u001b[0m\u001b[1;33m\u001b[0m\u001b[0m\n\u001b[0m",
      "\u001b[1;31mAttributeError\u001b[0m: 'list' object has no attribute 'intersection'"
     ]
    }
   ],
   "source": [
    "list(set(hapaxes).intersection(long_words))\n",
    "# ***** only set has intersection - KEY POINT "
   ]
  },
  {
   "cell_type": "code",
   "execution_count": 57,
   "metadata": {
    "collapsed": false
   },
   "outputs": [
    {
     "name": "stdout",
     "output_type": "stream",
     "text": [
      "million *U*; New York; billion *U*; Wall Street; program trading; Mrs.\n",
      "Yeargin; vice president; Stock Exchange; Big Board; Georgia Gulf;\n",
      "chief executive; Dow Jones; S&P 500; says *T*-1; York Stock; last\n",
      "year; Sea Containers; South Korea; American Express; San Francisco\n"
     ]
    }
   ],
   "source": [
    "text7.collocations()"
   ]
  },
  {
   "cell_type": "code",
   "execution_count": 64,
   "metadata": {
    "collapsed": true
   },
   "outputs": [],
   "source": [
    "fdist = FreqDist(text7)"
   ]
  },
  {
   "cell_type": "code",
   "execution_count": 67,
   "metadata": {
    "collapsed": false
   },
   "outputs": [
    {
     "data": {
      "text/plain": [
       "u','"
      ]
     },
     "execution_count": 67,
     "metadata": {},
     "output_type": "execute_result"
    }
   ],
   "source": [
    "fdist.max()\n"
   ]
  },
  {
   "cell_type": "code",
   "execution_count": 73,
   "metadata": {
    "collapsed": false
   },
   "outputs": [
    {
     "data": {
      "text/plain": [
       "[',', '.', '29', '61', 'Nov.', 'Pierre', 'Vinken']"
      ]
     },
     "execution_count": 73,
     "metadata": {},
     "output_type": "execute_result"
    }
   ],
   "source": [
    "sorted(w for w in set(text7) if w.startswith('Mr.'))\n",
    "sorted(w for w in set(sent7) if not w.islower())"
   ]
  },
  {
   "cell_type": "code",
   "execution_count": 78,
   "metadata": {
    "collapsed": false
   },
   "outputs": [
    {
     "name": "stdout",
     "output_type": "stream",
     "text": [
      "[u'Stock-index', u'index-arbitrage', u'index-fund', u'index-options', u'index-related', u'stock-index']\n",
      "\n",
      "\n",
      "[u'Abelmizraim', u'Allonbachuth', u'Beerlahairoi', u'Canaanitish', u'Chedorlaomer', u'Girgashites', u'Hazarmaveth', u'Hazezontamar', u'Ishmeelites', u'Jegarsahadutha', u'Jehovahjireh', u'Kirjatharba', u'Melchizedek', u'Mesopotamia', u'Peradventure', u'Philistines', u'Zaphnathpaaneah']\n",
      "\n",
      "\n",
      "[',', '.', '29', '61', 'Nov.', 'Pierre', 'Vinken']\n",
      "\n",
      "\n",
      "[u'ancient', u'ceiling', u'conceit', u'conceited', u'conceive', u'conscience', u'conscientious', u'conscientiously', u'deceitful', u'deceive', u'deceived', u'deceiving', u'deficiencies', u'deficiency', u'deficient', u'delicacies', u'excellencies', u'fancied', u'insufficiency', u'insufficient', u'legacies', u'perceive', u'perceived', u'perceiving', u'prescience', u'prophecies', u'receipt', u'receive', u'received', u'receiving', u'society', u'species', u'sufficient', u'sufficiently', u'undeceive', u'undeceiving']\n"
     ]
    }
   ],
   "source": [
    "print sorted(w for w in set(text7) if '-' in w and 'index' in w)\n",
    "print '\\n'\n",
    "print sorted(wd for wd in set(text3) if wd.istitle() and len(wd) > 10)\n",
    "print '\\n'\n",
    "print sorted(w for w in set(sent7) if not w.islower())\n",
    "print '\\n'\n",
    "print sorted(t for t in set(text2) if 'cie' in t or 'cei' in t)"
   ]
  },
  {
   "cell_type": "code",
   "execution_count": null,
   "metadata": {
    "collapsed": true
   },
   "outputs": [],
   "source": []
  }
 ],
 "metadata": {
  "kernelspec": {
   "display_name": "Python 2",
   "language": "python",
   "name": "python2"
  },
  "language_info": {
   "codemirror_mode": {
    "name": "ipython",
    "version": 2
   },
   "file_extension": ".py",
   "mimetype": "text/x-python",
   "name": "python",
   "nbconvert_exporter": "python",
   "pygments_lexer": "ipython2",
   "version": "2.7.10"
  }
 },
 "nbformat": 4,
 "nbformat_minor": 0
}
